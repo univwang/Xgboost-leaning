{
 "cells": [
  {
   "cell_type": "code",
   "execution_count": 4,
   "metadata": {},
   "outputs": [],
   "source": [
    "import pandas as pd\n",
    "import xgboost as xgb\n",
    "import numpy as np\n",
    "import warnings\n",
    "warnings.filterwarnings('ignore')\n",
    "from sklearn.model_selection import train_test_split"
   ]
  },
  {
   "cell_type": "code",
   "execution_count": 5,
   "metadata": {},
   "outputs": [
    {
     "data": {
      "text/html": [
       "<div>\n",
       "<style scoped>\n",
       "    .dataframe tbody tr th:only-of-type {\n",
       "        vertical-align: middle;\n",
       "    }\n",
       "\n",
       "    .dataframe tbody tr th {\n",
       "        vertical-align: top;\n",
       "    }\n",
       "\n",
       "    .dataframe thead th {\n",
       "        text-align: right;\n",
       "    }\n",
       "</style>\n",
       "<table border=\"1\" class=\"dataframe\">\n",
       "  <thead>\n",
       "    <tr style=\"text-align: right;\">\n",
       "      <th></th>\n",
       "      <th>0</th>\n",
       "      <th>1</th>\n",
       "      <th>2</th>\n",
       "      <th>3</th>\n",
       "      <th>4</th>\n",
       "      <th>5</th>\n",
       "      <th>6</th>\n",
       "      <th>lable</th>\n",
       "    </tr>\n",
       "  </thead>\n",
       "  <tbody>\n",
       "    <tr>\n",
       "      <th>0</th>\n",
       "      <td>15.26</td>\n",
       "      <td>14.84</td>\n",
       "      <td>0.8710</td>\n",
       "      <td>5.763</td>\n",
       "      <td>3.312</td>\n",
       "      <td>2.221</td>\n",
       "      <td>5.220</td>\n",
       "      <td>0</td>\n",
       "    </tr>\n",
       "    <tr>\n",
       "      <th>1</th>\n",
       "      <td>14.88</td>\n",
       "      <td>14.57</td>\n",
       "      <td>0.8811</td>\n",
       "      <td>5.554</td>\n",
       "      <td>3.333</td>\n",
       "      <td>1.018</td>\n",
       "      <td>4.956</td>\n",
       "      <td>0</td>\n",
       "    </tr>\n",
       "    <tr>\n",
       "      <th>2</th>\n",
       "      <td>14.29</td>\n",
       "      <td>14.09</td>\n",
       "      <td>0.9050</td>\n",
       "      <td>5.291</td>\n",
       "      <td>3.337</td>\n",
       "      <td>2.699</td>\n",
       "      <td>4.825</td>\n",
       "      <td>0</td>\n",
       "    </tr>\n",
       "    <tr>\n",
       "      <th>3</th>\n",
       "      <td>13.84</td>\n",
       "      <td>13.94</td>\n",
       "      <td>0.8955</td>\n",
       "      <td>5.324</td>\n",
       "      <td>3.379</td>\n",
       "      <td>2.259</td>\n",
       "      <td>4.805</td>\n",
       "      <td>0</td>\n",
       "    </tr>\n",
       "    <tr>\n",
       "      <th>4</th>\n",
       "      <td>16.14</td>\n",
       "      <td>14.99</td>\n",
       "      <td>0.9034</td>\n",
       "      <td>5.658</td>\n",
       "      <td>3.562</td>\n",
       "      <td>1.355</td>\n",
       "      <td>5.175</td>\n",
       "      <td>0</td>\n",
       "    </tr>\n",
       "  </tbody>\n",
       "</table>\n",
       "</div>"
      ],
      "text/plain": [
       "       0      1       2      3      4      5      6  lable\n",
       "0  15.26  14.84  0.8710  5.763  3.312  2.221  5.220      0\n",
       "1  14.88  14.57  0.8811  5.554  3.333  1.018  4.956      0\n",
       "2  14.29  14.09  0.9050  5.291  3.337  2.699  4.825      0\n",
       "3  13.84  13.94  0.8955  5.324  3.379  2.259  4.805      0\n",
       "4  16.14  14.99  0.9034  5.658  3.562  1.355  5.175      0"
      ]
     },
     "execution_count": 5,
     "metadata": {},
     "output_type": "execute_result"
    }
   ],
   "source": [
    "data_path='./seeds_dataset.txt'\n",
    "data=pd.read_csv(data_path,header=None,sep='\\s+',converters={7:lambda x:int(x)-1})\n",
    "data.rename(columns={7:'lable'},inplace=True)\n",
    "data.head()"
   ]
  },
  {
   "cell_type": "code",
   "execution_count": 6,
   "metadata": {},
   "outputs": [],
   "source": [
    "X=data.iloc[:,:6]\n",
    "Y=data.iloc[:,7]\n",
    "X_train, X_test, y_train, y_test = train_test_split(X, Y, test_size=0.25, random_state=100)\n",
    "\n",
    "xgb_train=xgb.DMatrix(X_train,label=y_train)\n",
    "xgb_test=xgb.DMatrix(X_test,label=y_test)"
   ]
  },
  {
   "cell_type": "code",
   "execution_count": 7,
   "metadata": {},
   "outputs": [
    {
     "name": "stdout",
     "output_type": "stream",
     "text": [
      "[13:56:19] WARNING: ../src/learner.cc:767: \n",
      "Parameters: { \"n_estimators\" } are not used.\n",
      "\n",
      "[0]\ttrain-mlogloss:0.98255\ttest-mlogloss:1.00005\n",
      "[1]\ttrain-mlogloss:0.88361\ttest-mlogloss:0.91201\n",
      "[2]\ttrain-mlogloss:0.79828\ttest-mlogloss:0.83740\n",
      "[3]\ttrain-mlogloss:0.72496\ttest-mlogloss:0.77320\n",
      "[4]\ttrain-mlogloss:0.66033\ttest-mlogloss:0.71190\n",
      "[5]\ttrain-mlogloss:0.60402\ttest-mlogloss:0.65860\n",
      "[6]\ttrain-mlogloss:0.55399\ttest-mlogloss:0.61336\n",
      "[7]\ttrain-mlogloss:0.51063\ttest-mlogloss:0.57568\n",
      "[8]\ttrain-mlogloss:0.47126\ttest-mlogloss:0.54375\n",
      "[9]\ttrain-mlogloss:0.43620\ttest-mlogloss:0.51198\n",
      "[10]\ttrain-mlogloss:0.40357\ttest-mlogloss:0.48474\n",
      "[11]\ttrain-mlogloss:0.37409\ttest-mlogloss:0.45745\n",
      "[12]\ttrain-mlogloss:0.34736\ttest-mlogloss:0.43378\n",
      "[13]\ttrain-mlogloss:0.32282\ttest-mlogloss:0.41033\n",
      "[14]\ttrain-mlogloss:0.30161\ttest-mlogloss:0.39327\n",
      "[15]\ttrain-mlogloss:0.28258\ttest-mlogloss:0.37694\n",
      "[16]\ttrain-mlogloss:0.26467\ttest-mlogloss:0.36063\n",
      "[17]\ttrain-mlogloss:0.24806\ttest-mlogloss:0.34821\n",
      "[18]\ttrain-mlogloss:0.23280\ttest-mlogloss:0.33419\n",
      "[19]\ttrain-mlogloss:0.21905\ttest-mlogloss:0.32283\n",
      "[20]\ttrain-mlogloss:0.20669\ttest-mlogloss:0.31155\n",
      "[21]\ttrain-mlogloss:0.19539\ttest-mlogloss:0.30007\n",
      "[22]\ttrain-mlogloss:0.18473\ttest-mlogloss:0.29090\n",
      "[23]\ttrain-mlogloss:0.17507\ttest-mlogloss:0.28382\n",
      "[24]\ttrain-mlogloss:0.16590\ttest-mlogloss:0.27562\n",
      "[25]\ttrain-mlogloss:0.15757\ttest-mlogloss:0.26934\n",
      "[26]\ttrain-mlogloss:0.15011\ttest-mlogloss:0.26271\n",
      "[27]\ttrain-mlogloss:0.14351\ttest-mlogloss:0.25639\n",
      "[28]\ttrain-mlogloss:0.13727\ttest-mlogloss:0.25101\n",
      "[29]\ttrain-mlogloss:0.13141\ttest-mlogloss:0.24498\n",
      "[30]\ttrain-mlogloss:0.12623\ttest-mlogloss:0.23999\n",
      "[31]\ttrain-mlogloss:0.12127\ttest-mlogloss:0.23613\n",
      "[32]\ttrain-mlogloss:0.11681\ttest-mlogloss:0.23196\n",
      "[33]\ttrain-mlogloss:0.11240\ttest-mlogloss:0.22791\n",
      "[34]\ttrain-mlogloss:0.10838\ttest-mlogloss:0.22466\n",
      "[35]\ttrain-mlogloss:0.10465\ttest-mlogloss:0.22143\n",
      "[36]\ttrain-mlogloss:0.10130\ttest-mlogloss:0.21844\n",
      "[37]\ttrain-mlogloss:0.09803\ttest-mlogloss:0.21560\n",
      "[38]\ttrain-mlogloss:0.09503\ttest-mlogloss:0.21342\n",
      "[39]\ttrain-mlogloss:0.09225\ttest-mlogloss:0.21173\n",
      "[40]\ttrain-mlogloss:0.08964\ttest-mlogloss:0.20970\n",
      "[41]\ttrain-mlogloss:0.08743\ttest-mlogloss:0.20802\n",
      "[42]\ttrain-mlogloss:0.08520\ttest-mlogloss:0.20688\n",
      "[43]\ttrain-mlogloss:0.08311\ttest-mlogloss:0.20617\n",
      "[44]\ttrain-mlogloss:0.08112\ttest-mlogloss:0.20437\n",
      "[45]\ttrain-mlogloss:0.07924\ttest-mlogloss:0.20261\n",
      "[46]\ttrain-mlogloss:0.07753\ttest-mlogloss:0.20173\n",
      "[47]\ttrain-mlogloss:0.07611\ttest-mlogloss:0.19996\n",
      "[48]\ttrain-mlogloss:0.07463\ttest-mlogloss:0.19873\n",
      "[49]\ttrain-mlogloss:0.07311\ttest-mlogloss:0.19803\n",
      "[50]\ttrain-mlogloss:0.07197\ttest-mlogloss:0.19707\n",
      "[51]\ttrain-mlogloss:0.07063\ttest-mlogloss:0.19665\n",
      "[52]\ttrain-mlogloss:0.06937\ttest-mlogloss:0.19642\n",
      "[53]\ttrain-mlogloss:0.06832\ttest-mlogloss:0.19548\n",
      "[54]\ttrain-mlogloss:0.06705\ttest-mlogloss:0.19480\n",
      "[55]\ttrain-mlogloss:0.06593\ttest-mlogloss:0.19428\n",
      "[56]\ttrain-mlogloss:0.06482\ttest-mlogloss:0.19382\n",
      "[57]\ttrain-mlogloss:0.06384\ttest-mlogloss:0.19385\n",
      "[58]\ttrain-mlogloss:0.06289\ttest-mlogloss:0.19383\n",
      "[59]\ttrain-mlogloss:0.06198\ttest-mlogloss:0.19350\n",
      "[60]\ttrain-mlogloss:0.06100\ttest-mlogloss:0.19286\n",
      "[61]\ttrain-mlogloss:0.06017\ttest-mlogloss:0.19226\n",
      "[62]\ttrain-mlogloss:0.05941\ttest-mlogloss:0.19186\n",
      "[63]\ttrain-mlogloss:0.05862\ttest-mlogloss:0.19126\n",
      "[64]\ttrain-mlogloss:0.05791\ttest-mlogloss:0.19113\n",
      "[65]\ttrain-mlogloss:0.05712\ttest-mlogloss:0.19102\n",
      "[66]\ttrain-mlogloss:0.05653\ttest-mlogloss:0.19049\n",
      "[67]\ttrain-mlogloss:0.05596\ttest-mlogloss:0.19000\n",
      "[68]\ttrain-mlogloss:0.05530\ttest-mlogloss:0.19016\n",
      "[69]\ttrain-mlogloss:0.05476\ttest-mlogloss:0.18960\n",
      "[70]\ttrain-mlogloss:0.05421\ttest-mlogloss:0.18960\n",
      "[71]\ttrain-mlogloss:0.05360\ttest-mlogloss:0.18971\n",
      "[72]\ttrain-mlogloss:0.05309\ttest-mlogloss:0.18969\n",
      "[73]\ttrain-mlogloss:0.05265\ttest-mlogloss:0.18932\n",
      "[74]\ttrain-mlogloss:0.05210\ttest-mlogloss:0.18893\n",
      "[75]\ttrain-mlogloss:0.05161\ttest-mlogloss:0.18893\n",
      "[76]\ttrain-mlogloss:0.05110\ttest-mlogloss:0.18902\n",
      "[77]\ttrain-mlogloss:0.05073\ttest-mlogloss:0.18863\n",
      "[78]\ttrain-mlogloss:0.05050\ttest-mlogloss:0.18865\n",
      "[79]\ttrain-mlogloss:0.05014\ttest-mlogloss:0.18854\n",
      "[80]\ttrain-mlogloss:0.04980\ttest-mlogloss:0.18872\n",
      "[81]\ttrain-mlogloss:0.04946\ttest-mlogloss:0.18797\n",
      "[82]\ttrain-mlogloss:0.04903\ttest-mlogloss:0.18809\n",
      "[83]\ttrain-mlogloss:0.04873\ttest-mlogloss:0.18794\n",
      "[84]\ttrain-mlogloss:0.04837\ttest-mlogloss:0.18780\n",
      "[85]\ttrain-mlogloss:0.04808\ttest-mlogloss:0.18782\n",
      "[86]\ttrain-mlogloss:0.04773\ttest-mlogloss:0.18779\n",
      "[87]\ttrain-mlogloss:0.04752\ttest-mlogloss:0.18772\n",
      "[88]\ttrain-mlogloss:0.04720\ttest-mlogloss:0.18764\n",
      "[89]\ttrain-mlogloss:0.04708\ttest-mlogloss:0.18743\n",
      "[90]\ttrain-mlogloss:0.04685\ttest-mlogloss:0.18750\n",
      "[91]\ttrain-mlogloss:0.04671\ttest-mlogloss:0.18748\n",
      "[92]\ttrain-mlogloss:0.04651\ttest-mlogloss:0.18763\n",
      "[93]\ttrain-mlogloss:0.04640\ttest-mlogloss:0.18759\n",
      "[94]\ttrain-mlogloss:0.04634\ttest-mlogloss:0.18755\n",
      "[95]\ttrain-mlogloss:0.04613\ttest-mlogloss:0.18761\n",
      "[96]\ttrain-mlogloss:0.04593\ttest-mlogloss:0.18764\n",
      "[97]\ttrain-mlogloss:0.04578\ttest-mlogloss:0.18793\n",
      "[98]\ttrain-mlogloss:0.04569\ttest-mlogloss:0.18786\n",
      "[99]\ttrain-mlogloss:0.04569\ttest-mlogloss:0.18786\n"
     ]
    }
   ],
   "source": [
    "params={\n",
    "    'objective':'multi:softmax',\n",
    "    'eta':0.1,\n",
    "    'max_depth':7,\n",
    "    'n_estimators':500,\n",
    "    'num_class':3,\n",
    "    'alpha': 0.6,\n",
    "    'lambda': 1.4,\n",
    "    'colsample_bytree':0.97,\n",
    "    'min_child_weight':0.5,\n",
    "    'gamma':0.015,\n",
    "}\n",
    "\n",
    "watchlist=[(xgb_train,'train'),(xgb_test,'test')]\n",
    "# 设置训练轮次，这里设置60轮\n",
    "num_round=100\n",
    "bst=xgb.train(params,xgb_train,num_round,watchlist)"
   ]
  },
  {
   "cell_type": "code",
   "execution_count": 8,
   "metadata": {},
   "outputs": [
    {
     "name": "stdout",
     "output_type": "stream",
     "text": [
      "[0. 2. 2. 2. 1. 0. 2. 1. 2. 2. 1. 1. 1. 0. 1. 0. 2. 1. 0. 2. 1. 0. 1. 1.\n",
      " 2. 2. 1. 2. 0. 0. 2. 0. 2. 2. 1. 2. 2. 2. 2. 1. 1. 0. 1. 1. 0. 2. 0. 2.\n",
      " 2. 1. 0. 2. 2.]\n"
     ]
    }
   ],
   "source": [
    "pred=bst.predict(xgb_test)\n",
    "print(pred)"
   ]
  },
  {
   "cell_type": "code",
   "execution_count": 9,
   "metadata": {},
   "outputs": [
    {
     "name": "stdout",
     "output_type": "stream",
     "text": [
      "测试集错误率(softmax):0.05660377358490566\n",
      "测试集准确率：0.9434\n"
     ]
    }
   ],
   "source": [
    "#模型评估\n",
    "\n",
    "# error_rate=np.sum(pred!=test.lable)/test.lable.shape[0]\n",
    "error_rate=np.sum(pred!=y_test)/y_test.shape[0]\n",
    "\n",
    "print('测试集错误率(softmax):{}'.format(error_rate))\n",
    "\n",
    "accuray=1-error_rate\n",
    "print('测试集准确率：%.4f' %accuray)"
   ]
  },
  {
   "cell_type": "code",
   "execution_count": 10,
   "metadata": {},
   "outputs": [
    {
     "data": {
      "image/png": "[encoded data removed]",
      "text/plain": [
       "<Figure size 640x480 with 1 Axes>"
      ]
     },
     "metadata": {},
     "output_type": "display_data"
    }
   ],
   "source": [
    "import matplotlib.pyplot as plt\n",
    "xgb.plot_importance(bst)\n",
    "plt.rcParams['figure.figsize'] = [8, 4]\n",
    "plt.show()"
   ]
  },
  {
   "cell_type": "code",
   "execution_count": null,
   "metadata": {},
   "outputs": [],
   "source": []
  }
 ],
 "metadata": {
  "kernelspec": {
   "display_name": "Python 3.10.4 64-bit",
   "language": "python",
   "name": "python3"
  },
  "language_info": {
   "codemirror_mode": {
    "name": "ipython",
    "version": 3
   },
   "file_extension": ".py",
   "mimetype": "text/x-python",
   "name": "python",
   "nbconvert_exporter": "python",
   "pygments_lexer": "ipython3",
   "version": "3.10.4"
  },
  "orig_nbformat": 4,
  "vscode": {
   "interpreter": {
    "hash": "3ad933181bd8a04b432d3370b9dc3b0662ad032c4dfaa4e4f1596c548f763858"
   }
  }
 },
 "nbformat": 4,
 "nbformat_minor": 2
}
