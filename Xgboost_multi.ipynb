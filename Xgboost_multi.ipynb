{
 "cells": [
  {
   "cell_type": "code",
   "execution_count": 470,
   "metadata": {},
   "outputs": [],
   "source": [
    "import pandas as pd\n",
    "import xgboost as xgb\n",
    "import numpy as np\n",
    "import warnings\n",
    "warnings.filterwarnings('ignore')\n",
    "from sklearn.model_selection import train_test_split"
   ]
  },
  {
   "cell_type": "code",
   "execution_count": 471,
   "metadata": {},
   "outputs": [
    {
     "data": {
      "text/html": [
       "<div>\n",
       "<style scoped>\n",
       "    .dataframe tbody tr th:only-of-type {\n",
       "        vertical-align: middle;\n",
       "    }\n",
       "\n",
       "    .dataframe tbody tr th {\n",
       "        vertical-align: top;\n",
       "    }\n",
       "\n",
       "    .dataframe thead th {\n",
       "        text-align: right;\n",
       "    }\n",
       "</style>\n",
       "<table border=\"1\" class=\"dataframe\">\n",
       "  <thead>\n",
       "    <tr style=\"text-align: right;\">\n",
       "      <th></th>\n",
       "      <th>0</th>\n",
       "      <th>1</th>\n",
       "      <th>2</th>\n",
       "      <th>3</th>\n",
       "      <th>4</th>\n",
       "      <th>5</th>\n",
       "      <th>6</th>\n",
       "      <th>lable</th>\n",
       "    </tr>\n",
       "  </thead>\n",
       "  <tbody>\n",
       "    <tr>\n",
       "      <th>0</th>\n",
       "      <td>15.26</td>\n",
       "      <td>14.84</td>\n",
       "      <td>0.8710</td>\n",
       "      <td>5.763</td>\n",
       "      <td>3.312</td>\n",
       "      <td>2.221</td>\n",
       "      <td>5.220</td>\n",
       "      <td>0</td>\n",
       "    </tr>\n",
       "    <tr>\n",
       "      <th>1</th>\n",
       "      <td>14.88</td>\n",
       "      <td>14.57</td>\n",
       "      <td>0.8811</td>\n",
       "      <td>5.554</td>\n",
       "      <td>3.333</td>\n",
       "      <td>1.018</td>\n",
       "      <td>4.956</td>\n",
       "      <td>0</td>\n",
       "    </tr>\n",
       "    <tr>\n",
       "      <th>2</th>\n",
       "      <td>14.29</td>\n",
       "      <td>14.09</td>\n",
       "      <td>0.9050</td>\n",
       "      <td>5.291</td>\n",
       "      <td>3.337</td>\n",
       "      <td>2.699</td>\n",
       "      <td>4.825</td>\n",
       "      <td>0</td>\n",
       "    </tr>\n",
       "    <tr>\n",
       "      <th>3</th>\n",
       "      <td>13.84</td>\n",
       "      <td>13.94</td>\n",
       "      <td>0.8955</td>\n",
       "      <td>5.324</td>\n",
       "      <td>3.379</td>\n",
       "      <td>2.259</td>\n",
       "      <td>4.805</td>\n",
       "      <td>0</td>\n",
       "    </tr>\n",
       "    <tr>\n",
       "      <th>4</th>\n",
       "      <td>16.14</td>\n",
       "      <td>14.99</td>\n",
       "      <td>0.9034</td>\n",
       "      <td>5.658</td>\n",
       "      <td>3.562</td>\n",
       "      <td>1.355</td>\n",
       "      <td>5.175</td>\n",
       "      <td>0</td>\n",
       "    </tr>\n",
       "  </tbody>\n",
       "</table>\n",
       "</div>"
      ],
      "text/plain": [
       "       0      1       2      3      4      5      6  lable\n",
       "0  15.26  14.84  0.8710  5.763  3.312  2.221  5.220      0\n",
       "1  14.88  14.57  0.8811  5.554  3.333  1.018  4.956      0\n",
       "2  14.29  14.09  0.9050  5.291  3.337  2.699  4.825      0\n",
       "3  13.84  13.94  0.8955  5.324  3.379  2.259  4.805      0\n",
       "4  16.14  14.99  0.9034  5.658  3.562  1.355  5.175      0"
      ]
     },
     "execution_count": 471,
     "metadata": {},
     "output_type": "execute_result"
    }
   ],
   "source": [
    "data_path='./seeds_dataset.txt'\n",
    "data=pd.read_csv(data_path,header=None,sep='\\s+',converters={7:lambda x:int(x)-1})\n",
    "data.rename(columns={7:'lable'},inplace=True)\n",
    "data.head()"
   ]
  },
  {
   "cell_type": "code",
   "execution_count": 472,
   "metadata": {},
   "outputs": [],
   "source": [
    "X=data.iloc[:,:6]\n",
    "Y=data.iloc[:,7]\n",
    "X_train, X_test, y_train, y_test = train_test_split(X, Y, test_size=0.25, random_state=100)\n",
    "\n",
    "xgb_train=xgb.DMatrix(X_train,label=y_train)\n",
    "xgb_test=xgb.DMatrix(X_test,label=y_test)"
   ]
  },
  {
   "cell_type": "code",
   "execution_count": 473,
   "metadata": {},
   "outputs": [
    {
     "name": "stdout",
     "output_type": "stream",
     "text": [
      "[20:56:56] WARNING: C:/buildkite-agent/builds/buildkite-windows-cpu-autoscaling-group-i-0ac76685cf763591d-1/xgboost/xgboost-ci-windows/src/learner.cc:767: \n",
      "Parameters: { \"n_estimators\" } are not used.\n",
      "\n",
      "[0]\ttrain-mlogloss:0.98281\ttest-mlogloss:1.00010\n",
      "[1]\ttrain-mlogloss:0.88413\ttest-mlogloss:0.91665\n",
      "[2]\ttrain-mlogloss:0.79993\ttest-mlogloss:0.84248\n",
      "[3]\ttrain-mlogloss:0.72592\ttest-mlogloss:0.77776\n",
      "[4]\ttrain-mlogloss:0.66156\ttest-mlogloss:0.71976\n",
      "[5]\ttrain-mlogloss:0.60595\ttest-mlogloss:0.67126\n",
      "[6]\ttrain-mlogloss:0.55492\ttest-mlogloss:0.62415\n",
      "[7]\ttrain-mlogloss:0.51056\ttest-mlogloss:0.58615\n",
      "[8]\ttrain-mlogloss:0.47010\ttest-mlogloss:0.54909\n",
      "[9]\ttrain-mlogloss:0.43396\ttest-mlogloss:0.51451\n",
      "[10]\ttrain-mlogloss:0.40117\ttest-mlogloss:0.48418\n",
      "[11]\ttrain-mlogloss:0.37114\ttest-mlogloss:0.45534\n",
      "[12]\ttrain-mlogloss:0.34548\ttest-mlogloss:0.43431\n",
      "[13]\ttrain-mlogloss:0.32201\ttest-mlogloss:0.41284\n",
      "[14]\ttrain-mlogloss:0.30041\ttest-mlogloss:0.39479\n",
      "[15]\ttrain-mlogloss:0.28068\ttest-mlogloss:0.37978\n",
      "[16]\ttrain-mlogloss:0.26306\ttest-mlogloss:0.36605\n",
      "[17]\ttrain-mlogloss:0.24630\ttest-mlogloss:0.35012\n",
      "[18]\ttrain-mlogloss:0.23215\ttest-mlogloss:0.34009\n",
      "[19]\ttrain-mlogloss:0.21855\ttest-mlogloss:0.32736\n",
      "[20]\ttrain-mlogloss:0.20626\ttest-mlogloss:0.31705\n",
      "[21]\ttrain-mlogloss:0.19495\ttest-mlogloss:0.30601\n",
      "[22]\ttrain-mlogloss:0.18450\ttest-mlogloss:0.29701\n",
      "[23]\ttrain-mlogloss:0.17491\ttest-mlogloss:0.29004\n",
      "[24]\ttrain-mlogloss:0.16587\ttest-mlogloss:0.28280\n",
      "[25]\ttrain-mlogloss:0.15801\ttest-mlogloss:0.27575\n",
      "[26]\ttrain-mlogloss:0.14992\ttest-mlogloss:0.26889\n",
      "[27]\ttrain-mlogloss:0.14325\ttest-mlogloss:0.26341\n",
      "[28]\ttrain-mlogloss:0.13688\ttest-mlogloss:0.25693\n",
      "[29]\ttrain-mlogloss:0.13100\ttest-mlogloss:0.25150\n",
      "[30]\ttrain-mlogloss:0.12568\ttest-mlogloss:0.24711\n",
      "[31]\ttrain-mlogloss:0.12083\ttest-mlogloss:0.24253\n",
      "[32]\ttrain-mlogloss:0.11619\ttest-mlogloss:0.23829\n",
      "[33]\ttrain-mlogloss:0.11189\ttest-mlogloss:0.23403\n",
      "[34]\ttrain-mlogloss:0.10790\ttest-mlogloss:0.23076\n",
      "[35]\ttrain-mlogloss:0.10417\ttest-mlogloss:0.22757\n",
      "[36]\ttrain-mlogloss:0.10067\ttest-mlogloss:0.22484\n",
      "[37]\ttrain-mlogloss:0.09776\ttest-mlogloss:0.22217\n",
      "[38]\ttrain-mlogloss:0.09456\ttest-mlogloss:0.21999\n",
      "[39]\ttrain-mlogloss:0.09174\ttest-mlogloss:0.21822\n",
      "[40]\ttrain-mlogloss:0.08918\ttest-mlogloss:0.21577\n",
      "[41]\ttrain-mlogloss:0.08697\ttest-mlogloss:0.21340\n",
      "[42]\ttrain-mlogloss:0.08468\ttest-mlogloss:0.21122\n",
      "[43]\ttrain-mlogloss:0.08252\ttest-mlogloss:0.20963\n",
      "[44]\ttrain-mlogloss:0.08060\ttest-mlogloss:0.20817\n",
      "[45]\ttrain-mlogloss:0.07872\ttest-mlogloss:0.20680\n",
      "[46]\ttrain-mlogloss:0.07688\ttest-mlogloss:0.20556\n",
      "[47]\ttrain-mlogloss:0.07522\ttest-mlogloss:0.20433\n",
      "[48]\ttrain-mlogloss:0.07365\ttest-mlogloss:0.20368\n",
      "[49]\ttrain-mlogloss:0.07214\ttest-mlogloss:0.20253\n",
      "[50]\ttrain-mlogloss:0.07096\ttest-mlogloss:0.20103\n",
      "[51]\ttrain-mlogloss:0.06962\ttest-mlogloss:0.20038\n",
      "[52]\ttrain-mlogloss:0.06840\ttest-mlogloss:0.19980\n",
      "[53]\ttrain-mlogloss:0.06726\ttest-mlogloss:0.19915\n",
      "[54]\ttrain-mlogloss:0.06601\ttest-mlogloss:0.19781\n",
      "[55]\ttrain-mlogloss:0.06493\ttest-mlogloss:0.19749\n",
      "[56]\ttrain-mlogloss:0.06414\ttest-mlogloss:0.19638\n",
      "[57]\ttrain-mlogloss:0.06311\ttest-mlogloss:0.19620\n",
      "[58]\ttrain-mlogloss:0.06220\ttest-mlogloss:0.19596\n",
      "[59]\ttrain-mlogloss:0.06133\ttest-mlogloss:0.19535\n",
      "[60]\ttrain-mlogloss:0.06038\ttest-mlogloss:0.19520\n",
      "[61]\ttrain-mlogloss:0.05948\ttest-mlogloss:0.19464\n",
      "[62]\ttrain-mlogloss:0.05872\ttest-mlogloss:0.19421\n",
      "[63]\ttrain-mlogloss:0.05805\ttest-mlogloss:0.19394\n",
      "[64]\ttrain-mlogloss:0.05728\ttest-mlogloss:0.19397\n",
      "[65]\ttrain-mlogloss:0.05665\ttest-mlogloss:0.19356\n",
      "[66]\ttrain-mlogloss:0.05604\ttest-mlogloss:0.19321\n",
      "[67]\ttrain-mlogloss:0.05537\ttest-mlogloss:0.19309\n",
      "[68]\ttrain-mlogloss:0.05483\ttest-mlogloss:0.19268\n",
      "[69]\ttrain-mlogloss:0.05424\ttest-mlogloss:0.19249\n",
      "[70]\ttrain-mlogloss:0.05368\ttest-mlogloss:0.19190\n",
      "[71]\ttrain-mlogloss:0.05316\ttest-mlogloss:0.19164\n",
      "[72]\ttrain-mlogloss:0.05263\ttest-mlogloss:0.19168\n",
      "[73]\ttrain-mlogloss:0.05218\ttest-mlogloss:0.19142\n",
      "[74]\ttrain-mlogloss:0.05165\ttest-mlogloss:0.19147\n",
      "[75]\ttrain-mlogloss:0.05115\ttest-mlogloss:0.19152\n",
      "[76]\ttrain-mlogloss:0.05070\ttest-mlogloss:0.19156\n",
      "[77]\ttrain-mlogloss:0.05033\ttest-mlogloss:0.19120\n",
      "[78]\ttrain-mlogloss:0.04986\ttest-mlogloss:0.19137\n",
      "[79]\ttrain-mlogloss:0.04948\ttest-mlogloss:0.19099\n",
      "[80]\ttrain-mlogloss:0.04909\ttest-mlogloss:0.19122\n",
      "[81]\ttrain-mlogloss:0.04880\ttest-mlogloss:0.19070\n",
      "[82]\ttrain-mlogloss:0.04837\ttest-mlogloss:0.19083\n",
      "[83]\ttrain-mlogloss:0.04804\ttest-mlogloss:0.19071\n",
      "[84]\ttrain-mlogloss:0.04773\ttest-mlogloss:0.19055\n",
      "[85]\ttrain-mlogloss:0.04735\ttest-mlogloss:0.19036\n",
      "[86]\ttrain-mlogloss:0.04707\ttest-mlogloss:0.19043\n",
      "[87]\ttrain-mlogloss:0.04690\ttest-mlogloss:0.19025\n",
      "[88]\ttrain-mlogloss:0.04661\ttest-mlogloss:0.19040\n",
      "[89]\ttrain-mlogloss:0.04650\ttest-mlogloss:0.19037\n",
      "[90]\ttrain-mlogloss:0.04635\ttest-mlogloss:0.19040\n",
      "[91]\ttrain-mlogloss:0.04602\ttest-mlogloss:0.19025\n",
      "[92]\ttrain-mlogloss:0.04593\ttest-mlogloss:0.19018\n",
      "[93]\ttrain-mlogloss:0.04593\ttest-mlogloss:0.19018\n",
      "[94]\ttrain-mlogloss:0.04576\ttest-mlogloss:0.19043\n",
      "[95]\ttrain-mlogloss:0.04567\ttest-mlogloss:0.19036\n",
      "[96]\ttrain-mlogloss:0.04546\ttest-mlogloss:0.19046\n",
      "[97]\ttrain-mlogloss:0.04530\ttest-mlogloss:0.19034\n",
      "[98]\ttrain-mlogloss:0.04515\ttest-mlogloss:0.19060\n",
      "[99]\ttrain-mlogloss:0.04508\ttest-mlogloss:0.19080\n"
     ]
    }
   ],
   "source": [
    "params={\n",
    "    'objective':'multi:softmax',\n",
    "    'eta':0.1,\n",
    "    'max_depth':7,\n",
    "    'n_estimators':500,\n",
    "    'num_class':3,\n",
    "    'alpha': 0.6,\n",
    "    'lambda': 1.4,\n",
    "    'colsample_bytree':0.97,\n",
    "    'min_child_weight':0.5,\n",
    "    'gamma':0.015,\n",
    "}\n",
    "\n",
    "watchlist=[(xgb_train,'train'),(xgb_test,'test')]\n",
    "# 设置训练轮次，这里设置60轮\n",
    "num_round=100\n",
    "bst=xgb.train(params,xgb_train,num_round,watchlist)"
   ]
  },
  {
   "cell_type": "code",
   "execution_count": 474,
   "metadata": {},
   "outputs": [
    {
     "name": "stdout",
     "output_type": "stream",
     "text": [
      "[0. 2. 2. 2. 1. 0. 2. 1. 2. 2. 1. 1. 1. 0. 1. 0. 2. 1. 0. 2. 1. 0. 1. 1.\n",
      " 2. 2. 1. 2. 0. 0. 2. 0. 2. 2. 1. 2. 2. 2. 2. 1. 1. 0. 1. 1. 0. 2. 0. 2.\n",
      " 2. 1. 0. 2. 2.]\n"
     ]
    }
   ],
   "source": [
    "pred=bst.predict(xgb_test)\n",
    "print(pred)"
   ]
  },
  {
   "cell_type": "code",
   "execution_count": 475,
   "metadata": {},
   "outputs": [
    {
     "name": "stdout",
     "output_type": "stream",
     "text": [
      "测试集错误率(softmax):0.05660377358490566\n",
      "测试集准确率：0.9434\n"
     ]
    }
   ],
   "source": [
    "#模型评估\n",
    "\n",
    "# error_rate=np.sum(pred!=test.lable)/test.lable.shape[0]\n",
    "error_rate=np.sum(pred!=y_test)/y_test.shape[0]\n",
    "\n",
    "print('测试集错误率(softmax):{}'.format(error_rate))\n",
    "\n",
    "accuray=1-error_rate\n",
    "print('测试集准确率：%.4f' %accuray)"
   ]
  },
  {
   "cell_type": "code",
   "execution_count": 476,
   "metadata": {},
   "outputs": [
    {
     "data": {
      "image/png": "[encoded data removed]",
      "text/plain": [
       "<Figure size 800x400 with 1 Axes>"
      ]
     },
     "metadata": {},
     "output_type": "display_data"
    }
   ],
   "source": [
    "import matplotlib.pyplot as plt\n",
    "xgb.plot_importance(bst)\n",
    "plt.rcParams['figure.figsize'] = [8, 4]\n",
    "plt.show()"
   ]
  },
  {
   "cell_type": "code",
   "execution_count": null,
   "metadata": {},
   "outputs": [],
   "source": []
  }
 ],
 "metadata": {
  "kernelspec": {
   "display_name": "Python 3.9.13 ('pytorch')",
   "language": "python",
   "name": "python3"
  },
  "language_info": {
   "codemirror_mode": {
    "name": "ipython",
    "version": 3
   },
   "file_extension": ".py",
   "mimetype": "text/x-python",
   "name": "python",
   "nbconvert_exporter": "python",
   "pygments_lexer": "ipython3",
   "version": "3.9.13"
  },
  "orig_nbformat": 4,
  "vscode": {
   "interpreter": {
    "hash": "40d476d3475c756bbfef2cc15199f37be57f98bc3270cf2f71df902f18344422"
   }
  }
 },
 "nbformat": 4,
 "nbformat_minor": 2
}
